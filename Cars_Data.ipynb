{
 "cells": [
  {
   "cell_type": "code",
   "execution_count": 45,
   "metadata": {},
   "outputs": [],
   "source": [
    "import numpy as np\n",
    "import pandas as pd\n",
    "import matplotlib.pyplot as mlt"
   ]
  },
  {
   "attachments": {},
   "cell_type": "markdown",
   "metadata": {},
   "source": [
    "#### 1. Load data set using pandas function and print last 5 record."
   ]
  },
  {
   "cell_type": "code",
   "execution_count": 46,
   "metadata": {},
   "outputs": [
    {
     "data": {
      "text/html": [
       "<div>\n",
       "<style scoped>\n",
       "    .dataframe tbody tr th:only-of-type {\n",
       "        vertical-align: middle;\n",
       "    }\n",
       "\n",
       "    .dataframe tbody tr th {\n",
       "        vertical-align: top;\n",
       "    }\n",
       "\n",
       "    .dataframe thead th {\n",
       "        text-align: right;\n",
       "    }\n",
       "</style>\n",
       "<table border=\"1\" class=\"dataframe\">\n",
       "  <thead>\n",
       "    <tr style=\"text-align: right;\">\n",
       "      <th></th>\n",
       "      <th>Unnamed: 0</th>\n",
       "      <th>price</th>\n",
       "      <th>brand</th>\n",
       "      <th>model</th>\n",
       "      <th>year</th>\n",
       "      <th>title_status</th>\n",
       "      <th>mileage</th>\n",
       "      <th>color</th>\n",
       "      <th>vin</th>\n",
       "      <th>lot</th>\n",
       "      <th>state</th>\n",
       "      <th>country</th>\n",
       "      <th>condition</th>\n",
       "    </tr>\n",
       "  </thead>\n",
       "  <tbody>\n",
       "    <tr>\n",
       "      <th>172</th>\n",
       "      <td>172</td>\n",
       "      <td>5470</td>\n",
       "      <td>dodge</td>\n",
       "      <td>mpv</td>\n",
       "      <td>2018</td>\n",
       "      <td>clean vehicle</td>\n",
       "      <td>39721</td>\n",
       "      <td>black</td>\n",
       "      <td>3c4pdcgg9jt216280</td>\n",
       "      <td>167656495</td>\n",
       "      <td>florida</td>\n",
       "      <td>usa</td>\n",
       "      <td>16 hours left</td>\n",
       "    </tr>\n",
       "    <tr>\n",
       "      <th>173</th>\n",
       "      <td>173</td>\n",
       "      <td>14600</td>\n",
       "      <td>ford</td>\n",
       "      <td>door</td>\n",
       "      <td>2014</td>\n",
       "      <td>clean vehicle</td>\n",
       "      <td>75785</td>\n",
       "      <td>black</td>\n",
       "      <td>1fm5k8f81egb23411</td>\n",
       "      <td>167756284</td>\n",
       "      <td>pennsylvania</td>\n",
       "      <td>usa</td>\n",
       "      <td>21 hours left</td>\n",
       "    </tr>\n",
       "    <tr>\n",
       "      <th>174</th>\n",
       "      <td>174</td>\n",
       "      <td>24502</td>\n",
       "      <td>chevrolet</td>\n",
       "      <td>1500</td>\n",
       "      <td>2016</td>\n",
       "      <td>clean vehicle</td>\n",
       "      <td>33624</td>\n",
       "      <td>black</td>\n",
       "      <td>3gcuknec6gg150809</td>\n",
       "      <td>167765812</td>\n",
       "      <td>michigan</td>\n",
       "      <td>usa</td>\n",
       "      <td>20 hours left</td>\n",
       "    </tr>\n",
       "    <tr>\n",
       "      <th>175</th>\n",
       "      <td>175</td>\n",
       "      <td>15110</td>\n",
       "      <td>ford</td>\n",
       "      <td>door</td>\n",
       "      <td>2017</td>\n",
       "      <td>clean vehicle</td>\n",
       "      <td>42289</td>\n",
       "      <td>white</td>\n",
       "      <td>1ft7w2bt7hec67263</td>\n",
       "      <td>167656516</td>\n",
       "      <td>texas</td>\n",
       "      <td>usa</td>\n",
       "      <td>2 days left</td>\n",
       "    </tr>\n",
       "    <tr>\n",
       "      <th>176</th>\n",
       "      <td>176</td>\n",
       "      <td>7900</td>\n",
       "      <td>ford</td>\n",
       "      <td>door</td>\n",
       "      <td>2014</td>\n",
       "      <td>clean vehicle</td>\n",
       "      <td>79422</td>\n",
       "      <td>white</td>\n",
       "      <td>1fmcu0g9xeud52262</td>\n",
       "      <td>167756290</td>\n",
       "      <td>new york</td>\n",
       "      <td>usa</td>\n",
       "      <td>21 hours left</td>\n",
       "    </tr>\n",
       "  </tbody>\n",
       "</table>\n",
       "</div>"
      ],
      "text/plain": [
       "     Unnamed: 0  price      brand model  year   title_status  mileage  color  \\\n",
       "172         172   5470      dodge   mpv  2018  clean vehicle    39721  black   \n",
       "173         173  14600       ford  door  2014  clean vehicle    75785  black   \n",
       "174         174  24502  chevrolet  1500  2016  clean vehicle    33624  black   \n",
       "175         175  15110       ford  door  2017  clean vehicle    42289  white   \n",
       "176         176   7900       ford  door  2014  clean vehicle    79422  white   \n",
       "\n",
       "                     vin        lot         state country      condition  \n",
       "172    3c4pdcgg9jt216280  167656495       florida     usa  16 hours left  \n",
       "173    1fm5k8f81egb23411  167756284  pennsylvania     usa  21 hours left  \n",
       "174    3gcuknec6gg150809  167765812      michigan     usa  20 hours left  \n",
       "175    1ft7w2bt7hec67263  167656516         texas     usa    2 days left  \n",
       "176    1fmcu0g9xeud52262  167756290      new york     usa  21 hours left  "
      ]
     },
     "execution_count": 46,
     "metadata": {},
     "output_type": "execute_result"
    }
   ],
   "source": [
    "MDF = pd.read_csv('cars.csv')\n",
    "MDF.tail(5)"
   ]
  },
  {
   "attachments": {},
   "cell_type": "markdown",
   "metadata": {},
   "source": [
    "#### 2. Print the size and shape of the data frame."
   ]
  },
  {
   "cell_type": "code",
   "execution_count": 47,
   "metadata": {},
   "outputs": [
    {
     "name": "stdout",
     "output_type": "stream",
     "text": [
      "Shape : (177, 13)\n",
      "size : 2301\n"
     ]
    }
   ],
   "source": [
    "print(\"Shape :\" , MDF.shape)\n",
    "print(\"size :\" , MDF.size)"
   ]
  },
  {
   "attachments": {},
   "cell_type": "markdown",
   "metadata": {},
   "source": [
    "#### 3. Find the mean price for each brand using the pandas function."
   ]
  },
  {
   "cell_type": "code",
   "execution_count": 48,
   "metadata": {},
   "outputs": [
    {
     "name": "stdout",
     "output_type": "stream",
     "text": [
      "toyota  :  6300\n",
      "ford  :  2899\n",
      "dodge  :  0\n",
      "chevrolet  :  7300\n",
      "gmc  :  11900\n",
      "chrysler  :  5430\n",
      "kia  :  5200\n",
      "buick  :  12000\n",
      "infiniti  :  18500\n",
      "mercedes-benz  :  16600\n",
      "jeep  :  15800\n",
      "bmw  :  24500\n",
      "cadillac  :  19002\n"
     ]
    }
   ],
   "source": [
    "Brands = MDF['brand'].drop_duplicates()\n",
    "Brands\n",
    "\n",
    "for i in Brands:\n",
    "    s = MDF[MDF['brand'] == i]\n",
    "    min_price = s['price'].min()\n",
    "    print(i ,\" : \", min_price)"
   ]
  },
  {
   "attachments": {},
   "cell_type": "markdown",
   "metadata": {},
   "source": [
    "#### 4. Count the car having Black color."
   ]
  },
  {
   "cell_type": "code",
   "execution_count": 49,
   "metadata": {},
   "outputs": [
    {
     "name": "stdout",
     "output_type": "stream",
     "text": [
      "Unnamed: 0      43\n",
      "price           43\n",
      "brand           43\n",
      "model           43\n",
      "year            43\n",
      "title_status    43\n",
      "mileage         43\n",
      "color           43\n",
      "vin             43\n",
      "lot             43\n",
      "state           43\n",
      "country         43\n",
      "condition       43\n",
      "dtype: int64\n"
     ]
    }
   ],
   "source": [
    "A = MDF[MDF['color'] == 'black']\n",
    "print(A.count())"
   ]
  },
  {
   "attachments": {},
   "cell_type": "markdown",
   "metadata": {},
   "source": [
    "#### 5. Find which Brand have maximum car in year 2017."
   ]
  },
  {
   "cell_type": "code",
   "execution_count": 61,
   "metadata": {},
   "outputs": [
    {
     "data": {
      "text/plain": [
       "ford         33\n",
       "gmc          17\n",
       "chevrolet    17\n",
       "chrysler      4\n",
       "cadillac      4\n",
       "buick         3\n",
       "bmw           3\n",
       "dodge         2\n",
       "Name: brand, dtype: int64"
      ]
     },
     "execution_count": 61,
     "metadata": {},
     "output_type": "execute_result"
    }
   ],
   "source": [
    "Cars_2017 = MDF[MDF['year'] == 2017]\n",
    "brand = Cars_2017['brand']\n",
    "brand.value_counts()\n",
    "\n"
   ]
  },
  {
   "attachments": {},
   "cell_type": "markdown",
   "metadata": {},
   "source": [
    "#### 6. Create a line chart which shows proportion for each car brand."
   ]
  },
  {
   "cell_type": "code",
   "execution_count": 80,
   "metadata": {},
   "outputs": [
    {
     "name": "stdout",
     "output_type": "stream",
     "text": [
      "ford             58\n",
      "chevrolet        30\n",
      "dodge            25\n",
      "gmc              17\n",
      "chrysler         13\n",
      "jeep              9\n",
      "buick             6\n",
      "bmw               6\n",
      "cadillac          6\n",
      "kia               3\n",
      "mercedes-benz     2\n",
      "toyota            1\n",
      "infiniti          1\n",
      "Name: brand, dtype: int64\n"
     ]
    },
    {
     "data": {
      "text/plain": [
       "[<matplotlib.lines.Line2D at 0x20560592aa0>]"
      ]
     },
     "execution_count": 80,
     "metadata": {},
     "output_type": "execute_result"
    },
    {
     "data": {
      "image/png": "[encoded data removed]",
      "text/plain": [
       "<Figure size 640x480 with 1 Axes>"
      ]
     },
     "metadata": {},
     "output_type": "display_data"
    }
   ],
   "source": [
    "y = MDF['brand'].value_counts()\n",
    "print(y)\n",
    "\n",
    "mlt.plot(y)"
   ]
  },
  {
   "attachments": {},
   "cell_type": "markdown",
   "metadata": {},
   "source": [
    "#### 7. Print the statistical information of the data frame"
   ]
  },
  {
   "cell_type": "code",
   "execution_count": 84,
   "metadata": {},
   "outputs": [
    {
     "data": {
      "text/html": [
       "<div>\n",
       "<style scoped>\n",
       "    .dataframe tbody tr th:only-of-type {\n",
       "        vertical-align: middle;\n",
       "    }\n",
       "\n",
       "    .dataframe tbody tr th {\n",
       "        vertical-align: top;\n",
       "    }\n",
       "\n",
       "    .dataframe thead th {\n",
       "        text-align: right;\n",
       "    }\n",
       "</style>\n",
       "<table border=\"1\" class=\"dataframe\">\n",
       "  <thead>\n",
       "    <tr style=\"text-align: right;\">\n",
       "      <th></th>\n",
       "      <th>Unnamed: 0</th>\n",
       "      <th>price</th>\n",
       "      <th>year</th>\n",
       "      <th>mileage</th>\n",
       "      <th>lot</th>\n",
       "    </tr>\n",
       "  </thead>\n",
       "  <tbody>\n",
       "    <tr>\n",
       "      <th>count</th>\n",
       "      <td>177.000000</td>\n",
       "      <td>177.000000</td>\n",
       "      <td>177.000000</td>\n",
       "      <td>177.000000</td>\n",
       "      <td>1.770000e+02</td>\n",
       "    </tr>\n",
       "    <tr>\n",
       "      <th>mean</th>\n",
       "      <td>88.000000</td>\n",
       "      <td>17121.751412</td>\n",
       "      <td>2016.310734</td>\n",
       "      <td>46854.932203</td>\n",
       "      <td>1.676768e+08</td>\n",
       "    </tr>\n",
       "    <tr>\n",
       "      <th>std</th>\n",
       "      <td>51.239633</td>\n",
       "      <td>11060.554802</td>\n",
       "      <td>4.084275</td>\n",
       "      <td>37352.978107</td>\n",
       "      <td>6.342515e+05</td>\n",
       "    </tr>\n",
       "    <tr>\n",
       "      <th>min</th>\n",
       "      <td>0.000000</td>\n",
       "      <td>0.000000</td>\n",
       "      <td>1973.000000</td>\n",
       "      <td>2430.000000</td>\n",
       "      <td>1.593488e+08</td>\n",
       "    </tr>\n",
       "    <tr>\n",
       "      <th>25%</th>\n",
       "      <td>44.000000</td>\n",
       "      <td>7300.000000</td>\n",
       "      <td>2016.000000</td>\n",
       "      <td>28972.000000</td>\n",
       "      <td>1.676565e+08</td>\n",
       "    </tr>\n",
       "    <tr>\n",
       "      <th>50%</th>\n",
       "      <td>88.000000</td>\n",
       "      <td>15110.000000</td>\n",
       "      <td>2017.000000</td>\n",
       "      <td>35714.000000</td>\n",
       "      <td>1.677554e+08</td>\n",
       "    </tr>\n",
       "    <tr>\n",
       "      <th>75%</th>\n",
       "      <td>132.000000</td>\n",
       "      <td>23505.000000</td>\n",
       "      <td>2018.000000</td>\n",
       "      <td>48086.000000</td>\n",
       "      <td>1.677637e+08</td>\n",
       "    </tr>\n",
       "    <tr>\n",
       "      <th>max</th>\n",
       "      <td>176.000000</td>\n",
       "      <td>55000.000000</td>\n",
       "      <td>2020.000000</td>\n",
       "      <td>274117.000000</td>\n",
       "      <td>1.678025e+08</td>\n",
       "    </tr>\n",
       "  </tbody>\n",
       "</table>\n",
       "</div>"
      ],
      "text/plain": [
       "       Unnamed: 0         price         year        mileage           lot\n",
       "count  177.000000    177.000000   177.000000     177.000000  1.770000e+02\n",
       "mean    88.000000  17121.751412  2016.310734   46854.932203  1.676768e+08\n",
       "std     51.239633  11060.554802     4.084275   37352.978107  6.342515e+05\n",
       "min      0.000000      0.000000  1973.000000    2430.000000  1.593488e+08\n",
       "25%     44.000000   7300.000000  2016.000000   28972.000000  1.676565e+08\n",
       "50%     88.000000  15110.000000  2017.000000   35714.000000  1.677554e+08\n",
       "75%    132.000000  23505.000000  2018.000000   48086.000000  1.677637e+08\n",
       "max    176.000000  55000.000000  2020.000000  274117.000000  1.678025e+08"
      ]
     },
     "execution_count": 84,
     "metadata": {},
     "output_type": "execute_result"
    }
   ],
   "source": [
    "MDF.describe()"
   ]
  },
  {
   "attachments": {},
   "cell_type": "markdown",
   "metadata": {},
   "source": [
    "#### 8. Remove all the duplicate values from the data frame"
   ]
  },
  {
   "cell_type": "code",
   "execution_count": 87,
   "metadata": {},
   "outputs": [],
   "source": [
    "mdf_No_Duplicates = MDF.drop_duplicates()"
   ]
  },
  {
   "attachments": {},
   "cell_type": "markdown",
   "metadata": {},
   "source": [
    "#### 9. Count the null values in the database and replace with median value."
   ]
  },
  {
   "cell_type": "code",
   "execution_count": 88,
   "metadata": {},
   "outputs": [
    {
     "data": {
      "text/plain": [
       "Unnamed: 0      0\n",
       "price           0\n",
       "brand           0\n",
       "model           0\n",
       "year            0\n",
       "title_status    0\n",
       "mileage         0\n",
       "color           0\n",
       "vin             0\n",
       "lot             0\n",
       "state           0\n",
       "country         0\n",
       "condition       0\n",
       "dtype: int64"
      ]
     },
     "execution_count": 88,
     "metadata": {},
     "output_type": "execute_result"
    }
   ],
   "source": [
    "MDF.isnull().sum()"
   ]
  }
 ],
 "metadata": {
  "kernelspec": {
   "display_name": "Python 3",
   "language": "python",
   "name": "python3"
  },
  "language_info": {
   "codemirror_mode": {
    "name": "ipython",
    "version": 3
   },
   "file_extension": ".py",
   "mimetype": "text/x-python",
   "name": "python",
   "nbconvert_exporter": "python",
   "pygments_lexer": "ipython3",
   "version": "3.10.7"
  },
  "orig_nbformat": 4,
  "vscode": {
   "interpreter": {
    "hash": "ca3b76dbcb3879c3c7cca673d6c15723b87a91589be29c8adb31c44002ae8673"
   }
  }
 },
 "nbformat": 4,
 "nbformat_minor": 2
}
